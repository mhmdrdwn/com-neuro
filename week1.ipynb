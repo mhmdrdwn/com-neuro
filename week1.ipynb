{
 "cells": [
  {
   "cell_type": "markdown",
   "metadata": {},
   "source": [
    "# Week 1"
   ]
  },
  {
   "cell_type": "code",
   "execution_count": 2,
   "metadata": {},
   "outputs": [],
   "source": [
    "from __future__ import division\n",
    "import numpy as np\n",
    "import matplotlib.pyplot as plt"
   ]
  },
  {
   "cell_type": "markdown",
   "metadata": {},
   "source": [
    "Computation Neuroscience:\n",
    "\n",
    "**Terry Sejnowski: 'How brains generate behaviours'**\n",
    "    \n",
    "- **Descriptive Model**: (WHAT), tells how neurons respond to external stimuli (Encoding), The counterpart is Decoding in which we extract info from the neuron (This info can be used to control things like prosthetic hand or neural prosthetics).\n",
    "\n",
    "- **Mechanistic Model**: (HOW), simulation of a single neuron or even networks like (Human Brain Project).\n",
    "\n",
    "- **Interpretive or Normative Model**: (WHY) why particular brain circuits functions."
   ]
  },
  {
   "cell_type": "code",
   "execution_count": null,
   "metadata": {},
   "outputs": [],
   "source": []
  }
 ],
 "metadata": {
  "kernelspec": {
   "display_name": "Python 3",
   "language": "python",
   "name": "python3"
  },
  "language_info": {
   "codemirror_mode": {
    "name": "ipython",
    "version": 3
   },
   "file_extension": ".py",
   "mimetype": "text/x-python",
   "name": "python",
   "nbconvert_exporter": "python",
   "pygments_lexer": "ipython3",
   "version": "3.7.4"
  }
 },
 "nbformat": 4,
 "nbformat_minor": 4
}
